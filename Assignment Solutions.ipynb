{
 "cells": [
  {
   "cell_type": "code",
   "execution_count": 1,
   "metadata": {},
   "outputs": [
    {
     "name": "stdout",
     "output_type": "stream",
     "text": [
      "Enter a2\n",
      "Enter b3\n",
      "Enter c5\n"
     ]
    },
    {
     "ename": "ValueError",
     "evalue": "math domain error",
     "output_type": "error",
     "traceback": [
      "\u001b[1;31m---------------------------------------------------------------------------\u001b[0m",
      "\u001b[1;31mValueError\u001b[0m                                Traceback (most recent call last)",
      "\u001b[1;32m<ipython-input-1-ca3f884e84ea>\u001b[0m in \u001b[0;36m<module>\u001b[1;34m\u001b[0m\n\u001b[0;32m      7\u001b[0m \u001b[0md\u001b[0m\u001b[1;33m=\u001b[0m \u001b[1;33m(\u001b[0m\u001b[0mb\u001b[0m\u001b[1;33m**\u001b[0m\u001b[1;36m2\u001b[0m\u001b[1;33m)\u001b[0m\u001b[1;33m-\u001b[0m\u001b[1;33m(\u001b[0m\u001b[1;36m4\u001b[0m\u001b[1;33m*\u001b[0m\u001b[0ma\u001b[0m\u001b[1;33m*\u001b[0m\u001b[0mc\u001b[0m\u001b[1;33m)\u001b[0m\u001b[1;33m\u001b[0m\u001b[1;33m\u001b[0m\u001b[0m\n\u001b[0;32m      8\u001b[0m \u001b[1;33m\u001b[0m\u001b[0m\n\u001b[1;32m----> 9\u001b[1;33m \u001b[0mprint\u001b[0m\u001b[1;33m(\u001b[0m\u001b[0mr1\u001b[0m\u001b[1;33m=\u001b[0m \u001b[1;33m(\u001b[0m\u001b[1;33m(\u001b[0m\u001b[1;33m-\u001b[0m\u001b[0mb\u001b[0m \u001b[1;33m+\u001b[0m \u001b[0mmath\u001b[0m\u001b[1;33m.\u001b[0m\u001b[0msqrt\u001b[0m\u001b[1;33m(\u001b[0m\u001b[0md\u001b[0m\u001b[1;33m)\u001b[0m\u001b[1;33m)\u001b[0m\u001b[1;33m/\u001b[0m\u001b[1;36m2\u001b[0m\u001b[1;33m*\u001b[0m\u001b[0ma\u001b[0m\u001b[1;33m)\u001b[0m\u001b[1;33m)\u001b[0m\u001b[1;33m\u001b[0m\u001b[1;33m\u001b[0m\u001b[0m\n\u001b[0m\u001b[0;32m     10\u001b[0m \u001b[0mprint\u001b[0m\u001b[1;33m(\u001b[0m\u001b[0mr2\u001b[0m\u001b[1;33m=\u001b[0m \u001b[1;33m(\u001b[0m\u001b[1;33m(\u001b[0m\u001b[1;33m-\u001b[0m\u001b[0mb\u001b[0m \u001b[1;33m-\u001b[0m \u001b[0mmath\u001b[0m\u001b[1;33m.\u001b[0m\u001b[0msqrt\u001b[0m\u001b[1;33m(\u001b[0m\u001b[0md\u001b[0m\u001b[1;33m)\u001b[0m\u001b[1;33m)\u001b[0m\u001b[1;33m/\u001b[0m\u001b[1;36m2\u001b[0m\u001b[1;33m*\u001b[0m\u001b[0ma\u001b[0m\u001b[1;33m)\u001b[0m\u001b[1;33m)\u001b[0m\u001b[1;33m\u001b[0m\u001b[1;33m\u001b[0m\u001b[0m\n",
      "\u001b[1;31mValueError\u001b[0m: math domain error"
     ]
    }
   ],
   "source": [
    "#quadratic equation\n",
    "\n",
    "import math\n",
    "a= int(input(\"Enter a\"))\n",
    "b= int(input(\"Enter b\"))\n",
    "c= int(input(\"Enter c\"))\n",
    "d= (b**2)-(4*a*c)\n",
    "\n",
    "print(r1= ((-b + math.sqrt(d))/2*a))\n",
    "print(r2= ((-b - math.sqrt(d))/2*a))\n"
   ]
  },
  {
   "cell_type": "code",
   "execution_count": 2,
   "metadata": {},
   "outputs": [
    {
     "name": "stdout",
     "output_type": "stream",
     "text": [
      "enter year2004\n",
      "leap year\n"
     ]
    }
   ],
   "source": [
    "#leap year\n",
    "\n",
    "s=int((input(\"enter year\")))\n",
    "if s%4 == 0:\n",
    "   print(\"leap year\")\n",
    "else:\n",
    "   print(\"normal year\")\n"
   ]
  },
  {
   "cell_type": "code",
   "execution_count": 3,
   "metadata": {},
   "outputs": [
    {
     "name": "stdout",
     "output_type": "stream",
     "text": [
      "enter the last digit5\n",
      "9\n"
     ]
    }
   ],
   "source": [
    "#sum of series of n is odd\n",
    "n=(int(input(\"enter the last digit\")))\n",
    "i=0\n",
    "y=0\n",
    "while i<=n:\n",
    "   if i%2 != 0:\n",
    "       y=y+i\n",
    "   i=i+1\n",
    "print(y)"
   ]
  },
  {
   "cell_type": "code",
   "execution_count": 4,
   "metadata": {},
   "outputs": [
    {
     "name": "stdout",
     "output_type": "stream",
     "text": [
      "enter the side1 length2\n",
      "enter the side2 length3\n",
      "enter the side3 length4\n",
      "exists\n"
     ]
    }
   ],
   "source": [
    "#Triangle\n",
    "n1=(int(input(\"enter the side1 length\")))\n",
    "n2=(int(input(\"enter the side2 length\")))\n",
    "n3=(int(input(\"enter the side3 length\")))\n",
    "if (n1+n2)>n3 and (n1+n3)>n2 and(n3+n2)>n1:\n",
    "   print(\"exists\")\n",
    "else:\n",
    "   print(\"not possible\")"
   ]
  },
  {
   "cell_type": "code",
   "execution_count": 5,
   "metadata": {},
   "outputs": [
    {
     "name": "stdout",
     "output_type": "stream",
     "text": [
      "Enter temperature in Celsius25\n",
      "77.0\n"
     ]
    }
   ],
   "source": [
    "# celsius to farenheit\n",
    "n = int(input(\"Enter temperature in Celsius\"))\n",
    "f = (n*9/5) + 32 \n",
    "print(f)\n"
   ]
  },
  {
   "cell_type": "code",
   "execution_count": 6,
   "metadata": {},
   "outputs": [
    {
     "name": "stdout",
     "output_type": "stream",
     "text": [
      "Enter number 1 2\n",
      "enter number 2 3\n",
      "Enter number 3 4\n",
      "9\n",
      "3.0\n"
     ]
    }
   ],
   "source": [
    "# sum and average\n",
    "n1 = int(input(\"Enter number 1 \"))\n",
    "n2 = int(input(\"enter number 2 \"))\n",
    "n3 = int(input(\"Enter number 3 \"))\n",
    "sum = n1+n2+n3\n",
    "print(sum)\n",
    "avg = sum/3\n",
    "print(avg)"
   ]
  },
  {
   "cell_type": "code",
   "execution_count": 7,
   "metadata": {},
   "outputs": [
    {
     "name": "stdout",
     "output_type": "stream",
     "text": [
      "Enter the week number:4\n",
      "weekDay = Wednesday\n"
     ]
    }
   ],
   "source": [
    "# input week number and print weekday\n",
    "weeknumber = int(input(\"Enter the week number:\"))\n",
    "\n",
    "if (weeknumber == 1):\n",
    "   print(\"weekDay = Sunday\")\n",
    "elif (weeknumber == 2):\n",
    "   print(\"weekDay = Monday\")\n",
    "elif (weeknumber == 3):\n",
    "   print(\"weekDay = Tuesday\")\n",
    "elif (weeknumber == 4):\n",
    "   print(\"weekDay = Wednesday\")\n",
    "elif (weeknumber == 5):\n",
    "   print(\"weekDay = Thursday\")\n",
    "elif (weeknumber == 6):\n",
    "   print(\"weekDay = Friday\")\n",
    "elif (weeknumber == 7):\n",
    "   print(\"weekDay = Saturday\")\n",
    "else:\n",
    "   print(\"Please enter the week number between 1 and 7\")\n"
   ]
  },
  {
   "cell_type": "code",
   "execution_count": 8,
   "metadata": {},
   "outputs": [
    {
     "name": "stdout",
     "output_type": "stream",
     "text": [
      "Enter 1st number2\n",
      "Enter 2nd number4\n",
      "Enter 3rd number5\n",
      "5is the greatest\n"
     ]
    }
   ],
   "source": [
    "# Greatest among three\n",
    "n1= int(input(\"Enter 1st number\"))\n",
    "n2= int(input(\"Enter 2nd number\"))\n",
    "n3= int(input(\"Enter 3rd number\"))\n",
    "if (n1>n2 and n1>n3):\n",
    "      print(str(n1)+\" is the greatest\")\n",
    "elif (n2>n1 and n2>n3):\n",
    "      print(str(n2)+\"is the greatest\")\n",
    "else:\n",
    "      print(str(n3)+\"is the greatest\")"
   ]
  },
  {
   "cell_type": "code",
   "execution_count": null,
   "metadata": {},
   "outputs": [],
   "source": []
  }
 ],
 "metadata": {
  "kernelspec": {
   "display_name": "Python 3",
   "language": "python",
   "name": "python3"
  },
  "language_info": {
   "codemirror_mode": {
    "name": "ipython",
    "version": 3
   },
   "file_extension": ".py",
   "mimetype": "text/x-python",
   "name": "python",
   "nbconvert_exporter": "python",
   "pygments_lexer": "ipython3",
   "version": "3.7.3"
  }
 },
 "nbformat": 4,
 "nbformat_minor": 2
}
